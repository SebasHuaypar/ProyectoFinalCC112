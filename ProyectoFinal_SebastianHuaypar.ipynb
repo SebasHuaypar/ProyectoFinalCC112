{
  "nbformat": 4,
  "nbformat_minor": 0,
  "metadata": {
    "colab": {
      "provenance": []
    },
    "kernelspec": {
      "name": "python3",
      "display_name": "Python 3"
    },
    "language_info": {
      "name": "python"
    },
    "widgets": {
      "application/vnd.jupyter.widget-state+json": {
        "87cdffd95162415b8aaec7191afa9db9": {
          "model_module": "@jupyter-widgets/controls",
          "model_name": "FloatTextModel",
          "model_module_version": "1.5.0",
          "state": {
            "_dom_classes": [],
            "_model_module": "@jupyter-widgets/controls",
            "_model_module_version": "1.5.0",
            "_model_name": "FloatTextModel",
            "_view_count": null,
            "_view_module": "@jupyter-widgets/controls",
            "_view_module_version": "1.5.0",
            "_view_name": "FloatTextView",
            "continuous_update": false,
            "description": "Cantidad:",
            "description_tooltip": null,
            "disabled": false,
            "layout": "IPY_MODEL_9b6b37810ab145a5b2e105bda7647801",
            "step": null,
            "style": "IPY_MODEL_1126737f569a481d80871857d8e6426e",
            "value": 16
          }
        },
        "9b6b37810ab145a5b2e105bda7647801": {
          "model_module": "@jupyter-widgets/base",
          "model_name": "LayoutModel",
          "model_module_version": "1.2.0",
          "state": {
            "_model_module": "@jupyter-widgets/base",
            "_model_module_version": "1.2.0",
            "_model_name": "LayoutModel",
            "_view_count": null,
            "_view_module": "@jupyter-widgets/base",
            "_view_module_version": "1.2.0",
            "_view_name": "LayoutView",
            "align_content": null,
            "align_items": null,
            "align_self": null,
            "border": null,
            "bottom": null,
            "display": null,
            "flex": null,
            "flex_flow": null,
            "grid_area": null,
            "grid_auto_columns": null,
            "grid_auto_flow": null,
            "grid_auto_rows": null,
            "grid_column": null,
            "grid_gap": null,
            "grid_row": null,
            "grid_template_areas": null,
            "grid_template_columns": null,
            "grid_template_rows": null,
            "height": null,
            "justify_content": null,
            "justify_items": null,
            "left": null,
            "margin": null,
            "max_height": null,
            "max_width": null,
            "min_height": null,
            "min_width": null,
            "object_fit": null,
            "object_position": null,
            "order": null,
            "overflow": null,
            "overflow_x": null,
            "overflow_y": null,
            "padding": null,
            "right": null,
            "top": null,
            "visibility": null,
            "width": null
          }
        },
        "1126737f569a481d80871857d8e6426e": {
          "model_module": "@jupyter-widgets/controls",
          "model_name": "DescriptionStyleModel",
          "model_module_version": "1.5.0",
          "state": {
            "_model_module": "@jupyter-widgets/controls",
            "_model_module_version": "1.5.0",
            "_model_name": "DescriptionStyleModel",
            "_view_count": null,
            "_view_module": "@jupyter-widgets/base",
            "_view_module_version": "1.2.0",
            "_view_name": "StyleView",
            "description_width": ""
          }
        },
        "74ecb4bf918745d39823724810a4cd37": {
          "model_module": "@jupyter-widgets/controls",
          "model_name": "DropdownModel",
          "model_module_version": "1.5.0",
          "state": {
            "_dom_classes": [],
            "_model_module": "@jupyter-widgets/controls",
            "_model_module_version": "1.5.0",
            "_model_name": "DropdownModel",
            "_options_labels": [
              "PEN",
              "EUR",
              "USD",
              "BOB",
              "MXN"
            ],
            "_view_count": null,
            "_view_module": "@jupyter-widgets/controls",
            "_view_module_version": "1.5.0",
            "_view_name": "DropdownView",
            "description": "De:",
            "description_tooltip": null,
            "disabled": false,
            "index": 0,
            "layout": "IPY_MODEL_a82bb0c5dbc941beabc5656a2755fcea",
            "style": "IPY_MODEL_ea9852fef9a04ae7a5322afd8b0e893e"
          }
        },
        "a82bb0c5dbc941beabc5656a2755fcea": {
          "model_module": "@jupyter-widgets/base",
          "model_name": "LayoutModel",
          "model_module_version": "1.2.0",
          "state": {
            "_model_module": "@jupyter-widgets/base",
            "_model_module_version": "1.2.0",
            "_model_name": "LayoutModel",
            "_view_count": null,
            "_view_module": "@jupyter-widgets/base",
            "_view_module_version": "1.2.0",
            "_view_name": "LayoutView",
            "align_content": null,
            "align_items": null,
            "align_self": null,
            "border": null,
            "bottom": null,
            "display": null,
            "flex": null,
            "flex_flow": null,
            "grid_area": null,
            "grid_auto_columns": null,
            "grid_auto_flow": null,
            "grid_auto_rows": null,
            "grid_column": null,
            "grid_gap": null,
            "grid_row": null,
            "grid_template_areas": null,
            "grid_template_columns": null,
            "grid_template_rows": null,
            "height": null,
            "justify_content": null,
            "justify_items": null,
            "left": null,
            "margin": null,
            "max_height": null,
            "max_width": null,
            "min_height": null,
            "min_width": null,
            "object_fit": null,
            "object_position": null,
            "order": null,
            "overflow": null,
            "overflow_x": null,
            "overflow_y": null,
            "padding": null,
            "right": null,
            "top": null,
            "visibility": null,
            "width": null
          }
        },
        "ea9852fef9a04ae7a5322afd8b0e893e": {
          "model_module": "@jupyter-widgets/controls",
          "model_name": "DescriptionStyleModel",
          "model_module_version": "1.5.0",
          "state": {
            "_model_module": "@jupyter-widgets/controls",
            "_model_module_version": "1.5.0",
            "_model_name": "DescriptionStyleModel",
            "_view_count": null,
            "_view_module": "@jupyter-widgets/base",
            "_view_module_version": "1.2.0",
            "_view_name": "StyleView",
            "description_width": ""
          }
        },
        "15a8ca34cd0e45648201531bc3c22c2f": {
          "model_module": "@jupyter-widgets/controls",
          "model_name": "DropdownModel",
          "model_module_version": "1.5.0",
          "state": {
            "_dom_classes": [],
            "_model_module": "@jupyter-widgets/controls",
            "_model_module_version": "1.5.0",
            "_model_name": "DropdownModel",
            "_options_labels": [
              "PEN",
              "EUR",
              "USD",
              "BOB",
              "MXN"
            ],
            "_view_count": null,
            "_view_module": "@jupyter-widgets/controls",
            "_view_module_version": "1.5.0",
            "_view_name": "DropdownView",
            "description": "A:",
            "description_tooltip": null,
            "disabled": false,
            "index": 2,
            "layout": "IPY_MODEL_2daf104caec7423ba1320beb4052093a",
            "style": "IPY_MODEL_71a12499e21d42b6862c0dcf7b46599c"
          }
        },
        "2daf104caec7423ba1320beb4052093a": {
          "model_module": "@jupyter-widgets/base",
          "model_name": "LayoutModel",
          "model_module_version": "1.2.0",
          "state": {
            "_model_module": "@jupyter-widgets/base",
            "_model_module_version": "1.2.0",
            "_model_name": "LayoutModel",
            "_view_count": null,
            "_view_module": "@jupyter-widgets/base",
            "_view_module_version": "1.2.0",
            "_view_name": "LayoutView",
            "align_content": null,
            "align_items": null,
            "align_self": null,
            "border": null,
            "bottom": null,
            "display": null,
            "flex": null,
            "flex_flow": null,
            "grid_area": null,
            "grid_auto_columns": null,
            "grid_auto_flow": null,
            "grid_auto_rows": null,
            "grid_column": null,
            "grid_gap": null,
            "grid_row": null,
            "grid_template_areas": null,
            "grid_template_columns": null,
            "grid_template_rows": null,
            "height": null,
            "justify_content": null,
            "justify_items": null,
            "left": null,
            "margin": null,
            "max_height": null,
            "max_width": null,
            "min_height": null,
            "min_width": null,
            "object_fit": null,
            "object_position": null,
            "order": null,
            "overflow": null,
            "overflow_x": null,
            "overflow_y": null,
            "padding": null,
            "right": null,
            "top": null,
            "visibility": null,
            "width": null
          }
        },
        "71a12499e21d42b6862c0dcf7b46599c": {
          "model_module": "@jupyter-widgets/controls",
          "model_name": "DescriptionStyleModel",
          "model_module_version": "1.5.0",
          "state": {
            "_model_module": "@jupyter-widgets/controls",
            "_model_module_version": "1.5.0",
            "_model_name": "DescriptionStyleModel",
            "_view_count": null,
            "_view_module": "@jupyter-widgets/base",
            "_view_module_version": "1.2.0",
            "_view_name": "StyleView",
            "description_width": ""
          }
        },
        "a8d37e05d83345259a0326bbd625c582": {
          "model_module": "@jupyter-widgets/controls",
          "model_name": "ButtonModel",
          "model_module_version": "1.5.0",
          "state": {
            "_dom_classes": [],
            "_model_module": "@jupyter-widgets/controls",
            "_model_module_version": "1.5.0",
            "_model_name": "ButtonModel",
            "_view_count": null,
            "_view_module": "@jupyter-widgets/controls",
            "_view_module_version": "1.5.0",
            "_view_name": "ButtonView",
            "button_style": "",
            "description": "Convertir",
            "disabled": false,
            "icon": "",
            "layout": "IPY_MODEL_ec4949b63ac54ab6bda4d27df0323adb",
            "style": "IPY_MODEL_ac185829efc14a57b0da2a9008580a09",
            "tooltip": ""
          }
        },
        "ec4949b63ac54ab6bda4d27df0323adb": {
          "model_module": "@jupyter-widgets/base",
          "model_name": "LayoutModel",
          "model_module_version": "1.2.0",
          "state": {
            "_model_module": "@jupyter-widgets/base",
            "_model_module_version": "1.2.0",
            "_model_name": "LayoutModel",
            "_view_count": null,
            "_view_module": "@jupyter-widgets/base",
            "_view_module_version": "1.2.0",
            "_view_name": "LayoutView",
            "align_content": null,
            "align_items": null,
            "align_self": null,
            "border": null,
            "bottom": null,
            "display": null,
            "flex": null,
            "flex_flow": null,
            "grid_area": null,
            "grid_auto_columns": null,
            "grid_auto_flow": null,
            "grid_auto_rows": null,
            "grid_column": null,
            "grid_gap": null,
            "grid_row": null,
            "grid_template_areas": null,
            "grid_template_columns": null,
            "grid_template_rows": null,
            "height": null,
            "justify_content": null,
            "justify_items": null,
            "left": null,
            "margin": null,
            "max_height": null,
            "max_width": null,
            "min_height": null,
            "min_width": null,
            "object_fit": null,
            "object_position": null,
            "order": null,
            "overflow": null,
            "overflow_x": null,
            "overflow_y": null,
            "padding": null,
            "right": null,
            "top": null,
            "visibility": null,
            "width": null
          }
        },
        "ac185829efc14a57b0da2a9008580a09": {
          "model_module": "@jupyter-widgets/controls",
          "model_name": "ButtonStyleModel",
          "model_module_version": "1.5.0",
          "state": {
            "_model_module": "@jupyter-widgets/controls",
            "_model_module_version": "1.5.0",
            "_model_name": "ButtonStyleModel",
            "_view_count": null,
            "_view_module": "@jupyter-widgets/base",
            "_view_module_version": "1.2.0",
            "_view_name": "StyleView",
            "button_color": null,
            "font_weight": ""
          }
        },
        "65f96e6823ff44b8a91e9abf6a94c541": {
          "model_module": "@jupyter-widgets/controls",
          "model_name": "LabelModel",
          "model_module_version": "1.5.0",
          "state": {
            "_dom_classes": [],
            "_model_module": "@jupyter-widgets/controls",
            "_model_module_version": "1.5.0",
            "_model_name": "LabelModel",
            "_view_count": null,
            "_view_module": "@jupyter-widgets/controls",
            "_view_module_version": "1.5.0",
            "_view_name": "LabelView",
            "description": "",
            "description_tooltip": null,
            "layout": "IPY_MODEL_92577bebfb7b4878ba8ced4b8936fb1a",
            "placeholder": "​",
            "style": "IPY_MODEL_887880ed9d1f4f339505a7109fad4ff4",
            "value": "4.16 USD"
          }
        },
        "92577bebfb7b4878ba8ced4b8936fb1a": {
          "model_module": "@jupyter-widgets/base",
          "model_name": "LayoutModel",
          "model_module_version": "1.2.0",
          "state": {
            "_model_module": "@jupyter-widgets/base",
            "_model_module_version": "1.2.0",
            "_model_name": "LayoutModel",
            "_view_count": null,
            "_view_module": "@jupyter-widgets/base",
            "_view_module_version": "1.2.0",
            "_view_name": "LayoutView",
            "align_content": null,
            "align_items": null,
            "align_self": null,
            "border": null,
            "bottom": null,
            "display": null,
            "flex": null,
            "flex_flow": null,
            "grid_area": null,
            "grid_auto_columns": null,
            "grid_auto_flow": null,
            "grid_auto_rows": null,
            "grid_column": null,
            "grid_gap": null,
            "grid_row": null,
            "grid_template_areas": null,
            "grid_template_columns": null,
            "grid_template_rows": null,
            "height": null,
            "justify_content": null,
            "justify_items": null,
            "left": null,
            "margin": null,
            "max_height": null,
            "max_width": null,
            "min_height": null,
            "min_width": null,
            "object_fit": null,
            "object_position": null,
            "order": null,
            "overflow": null,
            "overflow_x": null,
            "overflow_y": null,
            "padding": null,
            "right": null,
            "top": null,
            "visibility": null,
            "width": null
          }
        },
        "887880ed9d1f4f339505a7109fad4ff4": {
          "model_module": "@jupyter-widgets/controls",
          "model_name": "DescriptionStyleModel",
          "model_module_version": "1.5.0",
          "state": {
            "_model_module": "@jupyter-widgets/controls",
            "_model_module_version": "1.5.0",
            "_model_name": "DescriptionStyleModel",
            "_view_count": null,
            "_view_module": "@jupyter-widgets/base",
            "_view_module_version": "1.2.0",
            "_view_name": "StyleView",
            "description_width": ""
          }
        }
      }
    }
  },
  "cells": [
    {
      "cell_type": "markdown",
      "source": [
        "# **PARTE 1**"
      ],
      "metadata": {
        "id": "zQFcYW_JlmE4"
      }
    },
    {
      "cell_type": "markdown",
      "source": [
        "EJERCICIO 1: Crear una función que calcule el factorial de un número."
      ],
      "metadata": {
        "id": "B4Ulxz0Lk-0D"
      }
    },
    {
      "cell_type": "code",
      "execution_count": 1,
      "metadata": {
        "id": "ww__XB_PkAu3"
      },
      "outputs": [],
      "source": [
        "def factorial(n):\n",
        "    resultado = 1\n",
        "\n",
        "    if n < 0:\n",
        "        return \"¡El factorial no está definido para números negativos!\"\n",
        "\n",
        "    elif n == 0:\n",
        "        return 1\n",
        "\n",
        "    while n > 0:\n",
        "        resultado *= n\n",
        "        n -= 1\n",
        "    return resultado"
      ]
    },
    {
      "cell_type": "code",
      "source": [
        "n = int(input(\"Ingrese un número para calcular su factorial: \"))\n",
        "print(\"El factorial de \" + str(n) + \" es: \" + str(factorial(n)))"
      ],
      "metadata": {
        "colab": {
          "base_uri": "https://localhost:8080/"
        },
        "id": "12lkdfyXlOEg",
        "outputId": "a4aea875-632a-49c9-b44b-b5374a3c4d34"
      },
      "execution_count": 2,
      "outputs": [
        {
          "output_type": "stream",
          "name": "stdout",
          "text": [
            "Ingrese un número para calcular su factorial: 6\n",
            "El factorial de 6 es: 720\n"
          ]
        }
      ]
    },
    {
      "cell_type": "markdown",
      "source": [
        "EJERCICIO 3: Escribir una función que invierta una cadena."
      ],
      "metadata": {
        "id": "g5163fcWl46p"
      }
    },
    {
      "cell_type": "code",
      "source": [
        "# Utilizando la técnica del slicing [inicio:final:paso].\n",
        "\n",
        "def invertirCadena1(cadena):\n",
        "    return cadena[::-1]"
      ],
      "metadata": {
        "id": "lb12C4HJmGdR"
      },
      "execution_count": 3,
      "outputs": []
    },
    {
      "cell_type": "code",
      "source": [
        "cadena = str(input(\"Ingrese una cadena de texto a invertir: \"))\n",
        "print(\"Forma invertida: \" + str(invertirCadena1(cadena)))\n"
      ],
      "metadata": {
        "colab": {
          "base_uri": "https://localhost:8080/"
        },
        "id": "RPhMisPWnBSI",
        "outputId": "4433dfca-258e-41a4-e123-2993cd2ba5ef"
      },
      "execution_count": 4,
      "outputs": [
        {
          "output_type": "stream",
          "name": "stdout",
          "text": [
            "Ingrese una cadena de texto a invertir: AbCd\n",
            "Forma invertida: dCbA\n"
          ]
        }
      ]
    },
    {
      "cell_type": "code",
      "source": [
        "# Utilizando ciclo for para iterar sobre la cadena original y colocarlos de forma inversa en una nueva.\n",
        "\n",
        "def invertirCadena2(cadena):\n",
        "    cadena_invertida = \"\"\n",
        "\n",
        "    for letra in cadena:\n",
        "        cadena_invertida = letra + cadena_invertida\n",
        "    return cadena_invertida"
      ],
      "metadata": {
        "id": "_Sg0yYbEmKhA"
      },
      "execution_count": 5,
      "outputs": []
    },
    {
      "cell_type": "code",
      "source": [
        "cadena = str(input(\"Ingrese una cadena de texto a invertir: \"))\n",
        "print(\"Forma invertida: \" + str(invertirCadena2(cadena)))"
      ],
      "metadata": {
        "colab": {
          "base_uri": "https://localhost:8080/"
        },
        "id": "lewItouVnJyR",
        "outputId": "b6bf8625-39f2-48c4-ab2b-f913b3b0bfa9"
      },
      "execution_count": 6,
      "outputs": [
        {
          "output_type": "stream",
          "name": "stdout",
          "text": [
            "Ingrese una cadena de texto a invertir: aBcD\n",
            "Forma invertida: DcBa\n"
          ]
        }
      ]
    },
    {
      "cell_type": "markdown",
      "source": [
        "EJERCICIO 5: Explicar cómo funcionan las referencias en Python y crear una función que demuestre la mutabilidad de las listas."
      ],
      "metadata": {
        "id": "wUom6pzZnQ3q"
      }
    },
    {
      "cell_type": "markdown",
      "source": [
        "En el caso de Python, al momento de asignar una variable a otra variable, lo que sucede es que ambas apuntarán al mismo objeto almacenado en memoria. Esto sucede debido a que las variables no contienen directamente los valores asignados sino referencias a los objetos que tienen esos valores."
      ],
      "metadata": {
        "id": "LxK5IMqQnYsQ"
      }
    },
    {
      "cell_type": "markdown",
      "source": [
        "A continuación usaré un ejemplo donde podremos ver que una lista puede ser modificada sin tener que crear un nuevo objeto."
      ],
      "metadata": {
        "id": "yYzDwAZQndTY"
      }
    },
    {
      "cell_type": "code",
      "source": [
        "lista = [\"Lentejas\", \"Papa\", \"Arvejas\", \"Pan\", \"Azucar\"]"
      ],
      "metadata": {
        "id": "USsW4DQFnf0v"
      },
      "execution_count": 7,
      "outputs": []
    },
    {
      "cell_type": "code",
      "source": [
        "def mutabilidadLista(lista):\n",
        "    print(\"Lista original: \" + str(lista))\n",
        "\n",
        "    lista.append(\"Agua\") # Agregamos el elemento \"Agua\"  a la lista.\n",
        "\n",
        "    print(\"Lista modificada: \" + str(lista))\n",
        "\n",
        "    lista.pop(2) # Eliminamos el elemento de índica 2 (3er elemento) de la lista.\n",
        "\n",
        "    print(\"Lista modificada nuevamente: \" + str(lista))"
      ],
      "metadata": {
        "id": "4kP7H7nhnh2J"
      },
      "execution_count": 8,
      "outputs": []
    },
    {
      "cell_type": "code",
      "source": [
        "mutabilidadLista(lista)"
      ],
      "metadata": {
        "colab": {
          "base_uri": "https://localhost:8080/"
        },
        "id": "wFEP0AjhnkSG",
        "outputId": "73316c6a-8263-42c3-e0bd-173f7b5183c7"
      },
      "execution_count": 9,
      "outputs": [
        {
          "output_type": "stream",
          "name": "stdout",
          "text": [
            "Lista original: ['Lentejas', 'Papa', 'Arvejas', 'Pan', 'Azucar']\n",
            "Lista modificada: ['Lentejas', 'Papa', 'Arvejas', 'Pan', 'Azucar', 'Agua']\n",
            "Lista modificada nuevamente: ['Lentejas', 'Papa', 'Pan', 'Azucar', 'Agua']\n"
          ]
        }
      ]
    },
    {
      "cell_type": "markdown",
      "source": [
        "EJERCICIO 7: Crear una agenda telefónica utilizando diccionarios.\n"
      ],
      "metadata": {
        "id": "uEsaolu5n-pa"
      }
    },
    {
      "cell_type": "code",
      "source": [
        "# Definimos el diccionario agendaTelefonica\n",
        "\n",
        "agendaTelefonica = {\n",
        "    'Maria' : 945945945,\n",
        "    'Fatima' : 978978978,\n",
        "    'Carla' : 969969969,\n",
        "    'Oscar' : 921921921\n",
        "}\n",
        "\n",
        "print(\"Agenda original: \" + str(agendaTelefonica))"
      ],
      "metadata": {
        "colab": {
          "base_uri": "https://localhost:8080/"
        },
        "id": "UeMblcEFoDya",
        "outputId": "a60dba42-3459-4699-f7a0-a2a5bc0a1cbd"
      },
      "execution_count": 10,
      "outputs": [
        {
          "output_type": "stream",
          "name": "stdout",
          "text": [
            "Agenda original: {'Maria': 945945945, 'Fatima': 978978978, 'Carla': 969969969, 'Oscar': 921921921}\n"
          ]
        }
      ]
    },
    {
      "cell_type": "code",
      "source": [
        "agendaTelefonica['Alberto'] = 998998998 # Agregamos el nombre y celular de Alberto.\n",
        "del agendaTelefonica['Maria'] # Eliminamos el contacto de María.\n",
        "agendaTelefonica['Carla'] = 912912912 # Cambiamos el número de Carla."
      ],
      "metadata": {
        "id": "kcmerw_FoKyn"
      },
      "execution_count": 11,
      "outputs": []
    },
    {
      "cell_type": "code",
      "source": [
        "print(\"Agenda modificada: \" + str(agendaTelefonica))"
      ],
      "metadata": {
        "colab": {
          "base_uri": "https://localhost:8080/"
        },
        "id": "PojqJu68oMte",
        "outputId": "f882887d-a37b-435d-b570-fb6dec9cad21"
      },
      "execution_count": 12,
      "outputs": [
        {
          "output_type": "stream",
          "name": "stdout",
          "text": [
            "Agenda modificada: {'Fatima': 978978978, 'Carla': 912912912, 'Oscar': 921921921, 'Alberto': 998998998}\n"
          ]
        }
      ]
    },
    {
      "cell_type": "markdown",
      "source": [
        "EJERCICIO 9: Escribir y leer datos desde un archivo de texto.\n"
      ],
      "metadata": {
        "id": "G-Wrp7-noYe0"
      }
    },
    {
      "cell_type": "code",
      "source": [
        "# Creamos un archivo .txt con el nombre de AgendaTelefonica y lo abrimos.\n",
        "\n",
        "with open('AgendaTelefonica.txt', 'w') as archivo:\n",
        "\n",
        "    # Escribimos en el archivo los nombres de los contactos del ejercicio 7 para usarlo como ejemplo.\n",
        "\n",
        "    archivo.write(\"AGENDA TELEFONICA\\n\\n\")\n",
        "    archivo.write(\"Maria: 945945945\\n\")\n",
        "    archivo.write(\"Fatima: 978978978\\n\")\n",
        "    archivo.write(\"Carla: 969969969\\n\")\n",
        "    archivo.write(\"Oscar: 921921921\\n\")"
      ],
      "metadata": {
        "id": "n9vprMZwocpQ"
      },
      "execution_count": 13,
      "outputs": []
    },
    {
      "cell_type": "code",
      "source": [
        "# Abrimos el archivo y leemos los datos en él.\n",
        "\n",
        "with open('AgendaTelefonica.txt', 'r') as archivo:\n",
        "    lineas = archivo.readlines()"
      ],
      "metadata": {
        "id": "mm0x6bT5o4e5"
      },
      "execution_count": 14,
      "outputs": []
    },
    {
      "cell_type": "code",
      "source": [
        "# Imprimimos cada linea del archivo, utilizaremos strip() para eliminar los saltos de línea extras.\n",
        "\n",
        "for linea in lineas:\n",
        "    print(linea.strip())"
      ],
      "metadata": {
        "colab": {
          "base_uri": "https://localhost:8080/"
        },
        "id": "Mtrx7MEaoiou",
        "outputId": "c4d22db4-5b3d-49ca-c866-299c18f35b8a"
      },
      "execution_count": 15,
      "outputs": [
        {
          "output_type": "stream",
          "name": "stdout",
          "text": [
            "AGENDA TELEFONICA\n",
            "\n",
            "Maria: 945945945\n",
            "Fatima: 978978978\n",
            "Carla: 969969969\n",
            "Oscar: 921921921\n"
          ]
        }
      ]
    },
    {
      "cell_type": "markdown",
      "source": [
        "# **PARTE 2**"
      ],
      "metadata": {
        "id": "BYWtAVLjo_QA"
      }
    },
    {
      "cell_type": "markdown",
      "source": [
        "EJERCICIO 3: Implementar un programa que convierta entre diferentes monedas utilizando tasas de cambio predefinidas."
      ],
      "metadata": {
        "id": "LAXHrur5pEhu"
      }
    },
    {
      "cell_type": "markdown",
      "source": [
        "*Usaremos ipywidgets para hacer una interfaz más amigable, así que la importamos primero.*"
      ],
      "metadata": {
        "id": "qafrTiTEpLde"
      }
    },
    {
      "cell_type": "code",
      "source": [
        "import ipywidgets as widgets\n",
        "from IPython.display import display"
      ],
      "metadata": {
        "id": "xc0z3uKZpJQ3"
      },
      "execution_count": 16,
      "outputs": []
    },
    {
      "cell_type": "code",
      "source": [
        "# Definimos mediante un diccionario las tasas de cambio.\n",
        "\n",
        "tasasDeCambio = {\n",
        "    'PEN': 1.0,\n",
        "    'EUR': 0.25,\n",
        "    'USD': 0.26,\n",
        "    'BOB': 1.83,\n",
        "    'MXN': 4.89\n",
        "}"
      ],
      "metadata": {
        "id": "4hfRfXc7pSr9"
      },
      "execution_count": 17,
      "outputs": []
    },
    {
      "cell_type": "code",
      "source": [
        "# Implementamos una función que nos permita realizar las conversiones.\n",
        "\n",
        "def convertirMoneda(b):\n",
        "    try:\n",
        "        cantidad = float(ingresarCantidad.value)\n",
        "        monedaOrigen = monedaOrigen_combobox.value\n",
        "        monedaDestino = monedaDestino_combobox.value\n",
        "\n",
        "        if monedaOrigen in tasasDeCambio and monedaDestino in tasasDeCambio:\n",
        "            resultado = cantidad * (tasasDeCambio[monedaDestino] / tasasDeCambio[monedaOrigen])\n",
        "            resultadoLabel.value = f'{resultado:.2f} {monedaDestino}'\n",
        "        else:\n",
        "            resultadoLabel.value = \"Moneda no registrada\"\n",
        "    except ValueError:\n",
        "        resultadoLabel.value = \"Ingrese una cantidad válida\""
      ],
      "metadata": {
        "id": "OkspqApOpX1V"
      },
      "execution_count": 18,
      "outputs": []
    },
    {
      "cell_type": "code",
      "source": [
        "# Creamos los widgets\n",
        "\n",
        "ingresarCantidad = widgets.FloatText(description='Cantidad:', value=0)\n",
        "monedaOrigen_combobox = widgets.Dropdown(options=list(tasasDeCambio.keys()), description='De:')\n",
        "monedaDestino_combobox = widgets.Dropdown(options=list(tasasDeCambio.keys()), description='A:')\n",
        "convertirButton = widgets.Button(description='Convertir')\n",
        "resultadoLabel = widgets.Label(value='Aquí aparecerá el resultado')"
      ],
      "metadata": {
        "id": "CMAGAbSxpiFH"
      },
      "execution_count": 19,
      "outputs": []
    },
    {
      "cell_type": "code",
      "source": [
        "# Asignamos la función al botón\n",
        "\n",
        "convertirButton.on_click(convertirMoneda)"
      ],
      "metadata": {
        "id": "8XXckeDUpm7e"
      },
      "execution_count": 20,
      "outputs": []
    },
    {
      "cell_type": "code",
      "source": [
        "display(ingresarCantidad, monedaOrigen_combobox, monedaDestino_combobox, convertirButton, resultadoLabel)"
      ],
      "metadata": {
        "colab": {
          "base_uri": "https://localhost:8080/",
          "height": 173,
          "referenced_widgets": [
            "87cdffd95162415b8aaec7191afa9db9",
            "9b6b37810ab145a5b2e105bda7647801",
            "1126737f569a481d80871857d8e6426e",
            "74ecb4bf918745d39823724810a4cd37",
            "a82bb0c5dbc941beabc5656a2755fcea",
            "ea9852fef9a04ae7a5322afd8b0e893e",
            "15a8ca34cd0e45648201531bc3c22c2f",
            "2daf104caec7423ba1320beb4052093a",
            "71a12499e21d42b6862c0dcf7b46599c",
            "a8d37e05d83345259a0326bbd625c582",
            "ec4949b63ac54ab6bda4d27df0323adb",
            "ac185829efc14a57b0da2a9008580a09",
            "65f96e6823ff44b8a91e9abf6a94c541",
            "92577bebfb7b4878ba8ced4b8936fb1a",
            "887880ed9d1f4f339505a7109fad4ff4"
          ]
        },
        "id": "2x10LM7MpuKE",
        "outputId": "cccfb43f-78e4-4293-e030-30ed30f58dd4"
      },
      "execution_count": 21,
      "outputs": [
        {
          "output_type": "display_data",
          "data": {
            "text/plain": [
              "FloatText(value=0.0, description='Cantidad:')"
            ],
            "application/vnd.jupyter.widget-view+json": {
              "version_major": 2,
              "version_minor": 0,
              "model_id": "87cdffd95162415b8aaec7191afa9db9"
            }
          },
          "metadata": {}
        },
        {
          "output_type": "display_data",
          "data": {
            "text/plain": [
              "Dropdown(description='De:', options=('PEN', 'EUR', 'USD', 'BOB', 'MXN'), value='PEN')"
            ],
            "application/vnd.jupyter.widget-view+json": {
              "version_major": 2,
              "version_minor": 0,
              "model_id": "74ecb4bf918745d39823724810a4cd37"
            }
          },
          "metadata": {}
        },
        {
          "output_type": "display_data",
          "data": {
            "text/plain": [
              "Dropdown(description='A:', options=('PEN', 'EUR', 'USD', 'BOB', 'MXN'), value='PEN')"
            ],
            "application/vnd.jupyter.widget-view+json": {
              "version_major": 2,
              "version_minor": 0,
              "model_id": "15a8ca34cd0e45648201531bc3c22c2f"
            }
          },
          "metadata": {}
        },
        {
          "output_type": "display_data",
          "data": {
            "text/plain": [
              "Button(description='Convertir', style=ButtonStyle())"
            ],
            "application/vnd.jupyter.widget-view+json": {
              "version_major": 2,
              "version_minor": 0,
              "model_id": "a8d37e05d83345259a0326bbd625c582"
            }
          },
          "metadata": {}
        },
        {
          "output_type": "display_data",
          "data": {
            "text/plain": [
              "Label(value='Aquí aparecerá el resultado')"
            ],
            "application/vnd.jupyter.widget-view+json": {
              "version_major": 2,
              "version_minor": 0,
              "model_id": "65f96e6823ff44b8a91e9abf6a94c541"
            }
          },
          "metadata": {}
        }
      ]
    },
    {
      "cell_type": "markdown",
      "source": [
        "# **PARTE 3**"
      ],
      "metadata": {
        "id": "0Grfekdxr22P"
      }
    },
    {
      "cell_type": "markdown",
      "source": [
        "Verificar que se tenga instalado y actualizado Selenium y Webdriver_manager. Para ello utilizar:\n",
        "\n",
        "*   pip install --upgrade selenium webdriver_manager\n",
        "\n",
        "Ejecutar el script en otro entorno (se sugiere visual studio code) a menos que cuente con el webdriver de chrome actualizado en su última versión.\n"
      ],
      "metadata": {
        "id": "OJrjG73t9DRZ"
      }
    },
    {
      "cell_type": "markdown",
      "source": [
        "\n",
        "\n",
        "```\n",
        "from selenium import webdriver\n",
        "from selenium.webdriver.chrome.service import Service\n",
        "from webdriver_manager.chrome import ChromeDriverManager\n",
        "import time\n",
        "\n",
        "# Configuramos el WebDriver con ChromeDriverManager\n",
        "\n",
        "service = Service(ChromeDriverManager().install())\n",
        "driver = webdriver.Chrome(service=service)\n",
        "\n",
        "try:\n",
        "    url = \"https://docs.google.com/forms/d/e/1FAIpQLSeELwUD-QjTbetNqssLAYXzlz3WD-8GpomHrRjBiUAgEu9v1w/viewform?usp=sf_link\"\n",
        "    driver.get(url)\n",
        "\n",
        "    # Esperamos que el formulario se cargue correctamente\n",
        "\n",
        "    time.sleep(1)\n",
        "\n",
        "    # Llenamos los campos NOMBRE, EMAIL y MENSAJE\n",
        "\n",
        "    campo_nombre = driver.find_element(\"xpath\", '//input[@type=\"text\" and @aria-labelledby=\"i1\"]')\n",
        "    campo_nombre.send_keys(\"Sebastián Huaypar\")\n",
        "\n",
        "    campo_email = driver.find_element(\"xpath\", '//input[@type=\"text\" and @aria-labelledby=\"i5\"]')\n",
        "    campo_email.send_keys(\"sebastianhuaypar93@gmail.com\")\n",
        "\n",
        "    campo_mensaje = driver.find_element(\"xpath\", '//textarea[@aria-labelledby=\"i9\"]')\n",
        "    campo_mensaje.send_keys(\"Hola! Este es un mensaje de prueba\")\n",
        "\n",
        "    # Esperamos a que se complete correctamente\n",
        "\n",
        "    time.sleep(1)\n",
        "\n",
        "    # Indicamos que se de click al botón Enviar\n",
        "\n",
        "    boton_enviar = driver.find_element(\"xpath\", '//div[@role=\"button\" and .//span[text()=\"Enviar\"]]')\n",
        "    boton_enviar.click()\n",
        "\n",
        "    # Esperamos a que se envíe para comprobar que se haya ejecutado.\n",
        "\n",
        "    time.sleep(2)\n",
        "\n",
        "    confirmacion = driver.find_element(\"xpath\", '//*[contains(text(), \"El formulario se ha enviado correctamente\")]')\n",
        "    if confirmacion:\n",
        "        print(\"Formulario enviado exitosamente.\")\n",
        "    else:\n",
        "        print(\"No se pudo verificar el envío del formulario.\")\n",
        "\n",
        "except Exception as e:\n",
        "    print(f\"Error al llenar el formulario: {e}\")\n",
        "\n",
        "finally:\n",
        "    driver.quit()\n",
        "```\n",
        "\n"
      ],
      "metadata": {
        "id": "iEohCGsfAk1-"
      }
    }
  ]
}